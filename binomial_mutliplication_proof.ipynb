{
 "cells": [
  {
   "cell_type": "markdown",
   "metadata": {},
   "source": [
    "**Claim:** \n",
    "\n",
    "\n",
    "$$\\sum_{k = 0}^{min(i,j)} \\binom{i}{k} \\binom{j}{k} = \\sum_{k = 0}^{min(i,j)} \\binom{j}{k} \\binom{i}{k}= \\binom{i + j}{i}$$\n",
    "\n",
    "\n",
    "**Proof:**\n",
    "\n",
    "![graphical proof](illustrations/binomial_grid_mult_proof_combined.png)\n",
    "\n",
    "In such a grid, starting from the bottom left and finishing in the top right corner, there are $\\binom{i + j}{i}$ shortest paths. Note that each shortest path only ever travels upward and to the right (and never downward or to the left). Thus each shortest path must go through one and only one star. Therefore the sum of the number of shortests paths that goes through each star equals the total number of possible paths.  That summation corresponds exactly to $\\sum_{k = 0}^{min(i,j)} \\binom{j}{k} \\binom{i}{k} = \\binom{i + j}{i}$."
   ]
  }
 ],
 "metadata": {
  "kernelspec": {
   "display_name": "Python 2",
   "language": "python",
   "name": "python2"
  },
  "language_info": {
   "codemirror_mode": {
    "name": "ipython",
    "version": 2
   },
   "file_extension": ".py",
   "mimetype": "text/x-python",
   "name": "python",
   "nbconvert_exporter": "python",
   "pygments_lexer": "ipython2",
   "version": "2.7.9"
  }
 },
 "nbformat": 4,
 "nbformat_minor": 0
}
