{
 "cells": [
  {
   "cell_type": "code",
   "execution_count": 1,
   "metadata": {
    "collapsed": true
   },
   "outputs": [],
   "source": [
    "import numpy as np\n",
    "import numba"
   ]
  },
  {
   "cell_type": "markdown",
   "metadata": {
    "collapsed": true
   },
   "source": [
    "In short the problem is: \n",
    "\n",
    "Forgetful guy goes to home and office and back, repeatedly.  He has one umbrella at home (or more generally x umbrellas at home) and one umbrella at office (or more generally y umbrellas at office).  \n",
    "\n",
    "Each time it rains, (and it does, with some probability p at the time of each trip) he takes umbrella -- if there is one-- from current location to next location and leaves it there.  I.e. he only moves an umbrella from one location to the next if it is raining during that trip.  However, if there are no umbrellas there during that trip, he gets soaked.  On average how many trips does he make before getting soaked?\n",
    "- - - \n",
    "The problem then asks us to consider this over many different probability of raining values in $(0, 1)$.  \n",
    "\n",
    "This notebook first solves this using a simulation -- as is the preferred method for \"Digital Dice\".  It then solves for a more exact solution using an absorbing state markov chain -- first in a simple but wasteful setup, then at the end in a simplified and more flexible setup.  Reference \"markov_chains_absorbing_state_recut.ipynb\" for more info on absorbing state markov chains.\n",
    "\n",
    "One open item -- it feels like there may be a way to extract an analytic (scalar) solution from the simplified chain, for time until absorbtion.  However, such a solution is currently not coming to mind."
   ]
  },
  {
   "cell_type": "code",
   "execution_count": null,
   "metadata": {
    "collapsed": true
   },
   "outputs": [],
   "source": []
  },
  {
   "cell_type": "code",
   "execution_count": null,
   "metadata": {
    "collapsed": true
   },
   "outputs": [],
   "source": []
  },
  {
   "cell_type": "code",
   "execution_count": 2,
   "metadata": {
    "collapsed": true
   },
   "outputs": [],
   "source": [
    "@numba.jit(nopython= True)\n",
    "def run_sim(p, starting_home_umbrellas = 1, starting_office_unmbrellas = 1, n_trials= 100000):\n",
    "    total_moves_counter = 0\n",
    "    umbrella_array = np.zeros(2) \n",
    "    \n",
    "    for _ in range(n_trials):\n",
    "        umbrella_array[0] = starting_home_umbrellas\n",
    "        umbrella_array[1] = starting_office_unmbrellas\n",
    "        local_moves_counter = 0\n",
    "        curstate = 0 # at home to start\n",
    "        next_state = 1\n",
    "        while True:\n",
    "            local_moves_counter += 1\n",
    "            if np.random.random() <= p:\n",
    "                # i.e. it rains\n",
    "                if umbrella_array[curstate] == 0:\n",
    "                    break\n",
    "                else:\n",
    "                    umbrella_array[curstate] -= 1\n",
    "                    umbrella_array[next_state] += 1\n",
    "                \n",
    "            curstate, next_state = next_state, curstate # swap after a move\n",
    "        total_moves_counter += local_moves_counter\n",
    "    return total_moves_counter / n_trials\n",
    "\n",
    "    \n"
   ]
  },
  {
   "cell_type": "markdown",
   "metadata": {
    "collapsed": true
   },
   "source": [
    "# Below is explicit markov chain formulation, for the 1 umbrella at home, 1 umbrella at office case\n",
    "\n",
    "\n"
   ]
  },
  {
   "cell_type": "code",
   "execution_count": 3,
   "metadata": {
    "collapsed": true
   },
   "outputs": [],
   "source": [
    "# The two functions in this cell come from \"markov_chains_absorbing_state_recut.ipynb\"\n",
    "\n",
    "def partion_transition_matrix(A, first_absorbing_col=-2, last_absorbing_col = -1):\n",
    "    \"\"\"\n",
    "    this takes a transition matrix and slices it into two slices.  see dartmoth_markov_Lecture14.pdf page 11.\n",
    "    Also note that the slides use a tranposed A... (see how their rows sum to one, not the cols)\n",
    "    \n",
    "    Note, for now I just have this setup to accomodate absorbing states in EITHER the beginning of the matrix or the end,\n",
    "    but NOT both\n",
    "    \n",
    "    note this is back to using a zero indexing convention\n",
    "    \n",
    "    A must be square\n",
    "    \"\"\"    \n",
    "    assert A.shape[0] == A.shape[1]\n",
    "    m = A.shape[0]\n",
    "    \n",
    "    if first_absorbing_col < 0:\n",
    "        first_absorbing_col += m\n",
    "    if last_absorbing_col < 0:\n",
    "        last_absorbing_col += m\n",
    "    newA = A.T \n",
    "    assert first_absorbing_col <= last_absorbing_col, \"check that first_absorbing_col and last_absorbing_col are sensible\"\n",
    "    if first_absorbing_col == 0:\n",
    "        raise NotImplementedError\n",
    "    else:\n",
    "        N_inv = np.identity(first_absorbing_col) - np.zeros((first_absorbing_col, first_absorbing_col), dtype= np.float64)\n",
    "        R = np.zeros((first_absorbing_col - 0, last_absorbing_col - first_absorbing_col + 1), dtype= np.float64)\n",
    "        for i in range(first_absorbing_col):\n",
    "            for j in range(first_absorbing_col):\n",
    "                N_inv[i,j] -= newA[i,j]\n",
    "        for i in range(first_absorbing_col): \n",
    "            for j in range(last_absorbing_col - first_absorbing_col + 1):\n",
    "                R[i, j] += newA[i, first_absorbing_col + j]\n",
    "    return N_inv, R\n",
    "\n",
    "\n",
    "def get_variance_alternative(N_inverse, mean_vector):\n",
    "    \"\"\"\n",
    "    This returns a variance vector for a start at one of the non-absorbing states... and for starting 100% of the time \n",
    "    only at that state, no where else....\n",
    "    \n",
    "    This seems much more opaque... \n",
    "    but it is computationally better has the benefit of not needing to explicitly invert any matrices\n",
    "    \n",
    "    See writeup for derivation\n",
    "    \"\"\"    \n",
    "    right_side = 2 * mean_vector - N_inverse @ (mean_vector + mean_vector**2) \n",
    "    a = np.linalg.solve(N_inverse, 2 * mean_vector)\n",
    "    b = - (mean_vector + mean_vector**2)\n",
    "    x = a + b\n",
    "    return x\n",
    "  \n"
   ]
  },
  {
   "cell_type": "code",
   "execution_count": 4,
   "metadata": {
    "collapsed": true
   },
   "outputs": [],
   "source": [
    "@numba.jit(nopython= True)\n",
    "def matrix_setter_helper(matrixA, state_from, state_to, probability):\n",
    "    # in form of Ax = b\n",
    "    matrixA[state_to, state_from] = probability"
   ]
  },
  {
   "cell_type": "markdown",
   "metadata": {},
   "source": [
    "# sketch for below \"create_matrix\" function\n",
    "\n",
    "![basic markov chain](illustrations/digital_dice10_raw_model_sketch.jpeg)"
   ]
  },
  {
   "cell_type": "code",
   "execution_count": 5,
   "metadata": {
    "collapsed": false
   },
   "outputs": [
    {
     "name": "stdout",
     "output_type": "stream",
     "text": [
      "[[ 1.  -0.8  0.   0.  -0.2  0. ]\n",
      " [-0.8  1.  -0.2  0.   0.   0. ]\n",
      " [ 0.  -0.2  1.  -0.8  0.   0. ]\n",
      " [ 0.   0.  -0.8  1.   0.   0. ]\n",
      " [-0.2  0.   0.   0.   1.  -0.8]\n",
      " [ 0.   0.   0.   0.  -0.8  1. ]] \n",
      "\n",
      "(6, 6) the shape\n",
      "answer of E[T]\n",
      "[ 22.5  22.5  17.5  15.   17.5  15. ]\n",
      "\n",
      " [[ 0. ]\n",
      " [ 0. ]\n",
      " [ 0. ]\n",
      " [ 0.2]\n",
      " [ 0. ]\n",
      " [ 0.2]] That's R \n",
      "\n",
      "for absorbtion destination, the solution is\n",
      "[[ 1.]\n",
      " [ 1.]\n",
      " [ 1.]\n",
      " [ 1.]\n",
      " [ 1.]\n",
      " [ 1.]]\n",
      "technically variance in time until absorbtion was not asked in the problem, but it is shown below for reference\n",
      "\n",
      " variance in time until absorbtion is shown below\n",
      "[ 346.25  346.25  326.25  310.    326.25  310.  ]\n",
      " \n"
     ]
    }
   ],
   "source": [
    "\n",
    "@numba.jit(nopython= True)\n",
    "def create_matrix(p):\n",
    "    \"\"\"\n",
    "    This creates a simple, (but somewhat rigid and wasteful) transition matrix to solve the problem\n",
    "    See create_simplified_A for a simpler and more powerful approach\n",
    "    \n",
    "    See above picture that this maps to\n",
    "    \"\"\"\n",
    "    \n",
    "    A = np.zeros((7,7))\n",
    "    q = 1 - p\n",
    "\n",
    "    matrix_setter_helper(A, 0, 1, q)\n",
    "    matrix_setter_helper(A, 1, 0, q)\n",
    "    matrix_setter_helper(A, 1, 2, p)\n",
    "    matrix_setter_helper(A, 2, 1, p)\n",
    "    matrix_setter_helper(A, 2, 3, q)\n",
    "    matrix_setter_helper(A, 3, 2, q)\n",
    "    matrix_setter_helper(A, 3, -1, p)\n",
    "    matrix_setter_helper(A, 0, 4, p)\n",
    "    matrix_setter_helper(A, 4, 0, p)\n",
    "    matrix_setter_helper(A, 4, 5, q)\n",
    "    matrix_setter_helper(A, 5, 4, q)\n",
    "    matrix_setter_helper(A, 5, -1, p)\n",
    "    matrix_setter_helper(A, -1, -1, 1)\n",
    "    \n",
    "    return A\n",
    "\n",
    "A = create_matrix(0.2)\n",
    "N_inv, R = partion_transition_matrix(A, first_absorbing_col=-1, last_absorbing_col=-1) \n",
    "\n",
    "print(N_inv, \"\\n\")\n",
    "\n",
    "print(N_inv.shape, \"the shape\")\n",
    "ones_v = np.ones(N_inv.shape[0])\n",
    "\n",
    "print(\"answer of E[T]\")\n",
    "the_mean_vector =  np.linalg.solve(N_inv, ones_v)\n",
    "print(the_mean_vector)\n",
    "\n",
    "print(\"\\n\", R, \"That's R\",\"\\n\")\n",
    "print(\"for absorbtion destination, the solution is\")\n",
    "print(np.linalg.solve(N_inv, R))\n",
    "    \n",
    "print(\"technically variance in time until absorbtion was not asked in the problem, but it is shown below for reference\")\n",
    "print(\"\\n\", \"variance in time until absorbtion is shown below\")\n",
    "print(get_variance_alternative(N_inv, the_mean_vector))\n",
    "print( \" \")\n"
   ]
  },
  {
   "cell_type": "code",
   "execution_count": 6,
   "metadata": {
    "collapsed": false
   },
   "outputs": [
    {
     "name": "stdout",
     "output_type": "stream",
     "text": [
      "400.88783 402.02020202 probability =  0.01\n",
      "202.41981 202.040816327 probability =  0.02\n",
      "135.78751 135.395189003 probability =  0.03\n",
      "101.9265 102.083333333 probability =  0.04\n",
      "82.06599 82.1052631579 probability =  0.05\n",
      "68.99457 68.7943262411 probability =  0.06\n",
      "59.44357 59.2933947773 probability =  0.07\n",
      "52.15435 52.1739130435 probability =  0.08\n",
      "46.75081 46.6422466422 probability =  0.09\n",
      "42.3543 42.2222222222 probability =  0.1\n",
      "38.51979 38.6108273749 probability =  0.11\n",
      "35.59199 35.6060606061 probability =  0.12\n",
      "33.05008 33.0680813439 probability =  0.13\n",
      "30.91296 30.8970099668 probability =  0.14\n",
      "29.12171 29.0196078431 probability =  0.15\n",
      "27.57649 27.380952381 probability =  0.16\n",
      "25.92294 25.9390503189 probability =  0.17\n",
      "24.57516 24.6612466125 probability =  0.18\n",
      "23.52351 23.5217673814 probability =  0.19\n",
      "22.52134 22.5 probability =  0.2\n",
      "21.58735 21.5792646172 probability =  0.21\n",
      "20.73535 20.7459207459 probability =  0.22\n",
      "19.9243 19.9887069452 probability =  0.23\n",
      "19.26414 19.298245614 probability =  0.24\n",
      "18.64902 18.6666666667 probability =  0.25\n",
      "18.04552 18.0873180873 probability =  0.26\n",
      "17.52271 17.5545408422 probability =  0.27\n",
      "17.06822 17.0634920635 probability =  0.28\n",
      "16.62774 16.6100048567 probability =  0.29\n",
      "16.21911 16.1904761905 probability =  0.3\n",
      "15.87133 15.8017765311 probability =  0.31\n",
      "15.43143 15.4411764706 probability =  0.32\n",
      "15.07166 15.1062867481 probability =  0.33\n",
      "14.73258 14.7950089127 probability =  0.34\n",
      "14.55253 14.5054945055 probability =  0.35\n",
      "14.21211 14.2361111111 probability =  0.36\n",
      "13.92339 13.9854139854 probability =  0.37\n",
      "13.71389 13.7521222411 probability =  0.38\n",
      "13.5956 13.535098781 probability =  0.39\n",
      "13.38772 13.3333333333 probability =  0.4\n",
      "13.1317 13.1459280695 probability =  0.41\n",
      "12.99635 12.9720853859 probability =  0.42\n",
      "12.84476 12.8110975112 probability =  0.43\n",
      "12.67542 12.6623376623 probability =  0.44\n",
      "12.51525 12.5252525253 probability =  0.45\n",
      "12.41374 12.3993558776 probability =  0.46\n",
      "12.30392 12.2842232035 probability =  0.47\n",
      "12.14376 12.1794871795 probability =  0.48\n",
      "12.07704 12.0848339336 probability =  0.49\n",
      "12.0286 12.0 probability =  0.5\n",
      "11.90082 11.924769908 probability =  0.51\n",
      "11.80413 11.858974359 probability =  0.52\n",
      "11.81681 11.8024889603 probability =  0.53\n",
      "11.74153 11.7552334944 probability =  0.54\n",
      "11.70344 11.7171717172 probability =  0.55\n",
      "11.64533 11.6883116883 probability =  0.56\n",
      "11.68502 11.6687066503 probability =  0.57\n",
      "11.70412 11.658456486 probability =  0.58\n",
      "11.62597 11.6577097974 probability =  0.59\n",
      "11.64487 11.6666666667 probability =  0.6\n",
      "11.69441 11.6855821774 probability =  0.61\n",
      "11.70232 11.714770798 probability =  0.62\n",
      "11.74804 11.7546117546 probability =  0.63\n",
      "11.83015 11.8055555556 probability =  0.64\n",
      "11.84201 11.8681318681 probability =  0.65\n",
      "11.94981 11.9429590018 probability =  0.66\n",
      "12.02508 12.0307553143 probability =  0.67\n",
      "12.09972 12.1323529412 probability =  0.68\n",
      "12.2643 12.2487143525 probability =  0.69\n",
      "12.35583 12.380952381 probability =  0.7\n",
      "12.47705 12.530354541 probability =  0.71\n",
      "12.69161 12.6984126984 probability =  0.72\n",
      "12.88814 12.8868594622 probability =  0.73\n",
      "13.02069 13.0977130977 probability =  0.74\n",
      "13.29429 13.3333333333 probability =  0.75\n",
      "13.64387 13.5964912281 probability =  0.76\n",
      "13.91034 13.8904573687 probability =  0.77\n",
      "14.2014 14.2191142191 probability =  0.78\n",
      "14.63258 14.5871006631 probability =  0.79\n",
      "15.01398 15.0 probability =  0.8\n",
      "15.49008 15.4645873944 probability =  0.81\n",
      "15.92044 15.9891598916 probability =  0.82\n",
      "16.55253 16.5839829908 probability =  0.83\n",
      "17.29135 17.2619047619 probability =  0.84\n",
      "17.98944 18.0392156863 probability =  0.85\n",
      "18.87398 18.9368770764 probability =  0.86\n",
      "20.04536 19.982316534 probability =  0.87\n",
      "21.03744 21.2121212121 probability =  0.88\n",
      "22.73602 22.6762002043 probability =  0.89\n",
      "24.46489 24.4444444444 probability =  0.9\n",
      "26.65153 26.6178266178 probability =  0.91\n",
      "29.3228 29.347826087 probability =  0.92\n",
      "32.72188 32.8725038402 probability =  0.93\n",
      "37.51445 37.5886524823 probability =  0.94\n",
      "44.08028 44.2105263158 probability =  0.95\n",
      "54.21699 54.1666666667 probability =  0.96\n",
      "70.83853 70.7903780069 probability =  0.97\n",
      "103.72321 104.081632653 probability =  0.98\n",
      "204.13 204.04040404 probability =  0.99\n"
     ]
    }
   ],
   "source": [
    "# full chain only implemented for case of 1 umbrella at home and 1 umbrella at office\n",
    "# this runs the simulation and numerically exact answer, below, as suggested in the original problem\n",
    "\n",
    "p_vec = np.linspace(0.01, 1, endpoint=False, num=99 )\n",
    "\n",
    "for p in p_vec:\n",
    "    sim_result = run_sim(p)\n",
    "    A = create_matrix(p)\n",
    "    N_inv, R = partion_transition_matrix(A, first_absorbing_col=-1, last_absorbing_col=-1) \n",
    "    ones_v = np.ones(N_inv.shape[0]) # a touch wasteful here\n",
    "    the_mean_vector =  np.linalg.solve(N_inv, ones_v)\n",
    "    \n",
    "    print(sim_result, the_mean_vector[0], \"probability = \",p )\n",
    "    \n",
    "    assert(abs(the_mean_vector[0] - the_mean_vector[1]) <= 0.0001) \n",
    "    # this assert can be ignored\n",
    "    # it has been put in place for symmetry checking\n",
    "\n"
   ]
  },
  {
   "cell_type": "markdown",
   "metadata": {
    "collapsed": true
   },
   "source": [
    "# sketch for below \"create_matrix\" function\n",
    "\n",
    "![better markov chain](illustrations/digital_dice10_simple_model_sketch.jpeg)"
   ]
  },
  {
   "cell_type": "code",
   "execution_count": 7,
   "metadata": {
    "collapsed": true
   },
   "outputs": [],
   "source": [
    "@numba.jit(nopython= True)\n",
    "def create_simplified_A(p, starting_umbrellas_at_home=1, starting_umbrellas_at_office=1):\n",
    "    \"\"\"\n",
    "    This setup takes advantage of symmetry to create a smaller, simplified transition matrix\n",
    "    See above sketch for the 1 umbrella at home, 1 at the office case\n",
    "    \n",
    "    note that for simplicity starting_umbrellas_at_home at must == starting_umbrellas_at_office\n",
    "    However, the model could easily be tweaked to accomodate something else (so long as total number of umbrellas is even)\n",
    "    \n",
    "    E.g. if there were 3 umbrellas at home and 5 at the office, we'd model this as (4,4), and just get the associated\n",
    "    mean time until absorbtion from a different starting state\n",
    "    \n",
    "    However, if the total number of umbrellas is odd, the same ideas apply, but some structual differences with the \n",
    "    indexing scheme, below, would be required.  This would entail complicating this function considerably  \n",
    "    without adding much insight.  Hence this has been omitted.  \n",
    "    \n",
    "    Note: The underlying matrices are extremely sparse, which would suggest a sparse matrix makes sense for larger matrices.\n",
    "    This is certainly correct.  However scipy.sparse leaves a lot to be desired.  If I wanted to further optimize this,\n",
    "    I would do a sparse implementation in Julia.\n",
    "    \n",
    "    An open question is whether or not a technique like telescoping can be employed \n",
    "    to extract an analytic (scalar) solution to his problem\n",
    "    \n",
    "    Or perhaps bunching then telescoping to get an analytic bound / approximation\n",
    "    \n",
    "    \"\"\"\n",
    "    # assert(type(starting_umbrellas_at_home) == int)\n",
    "    # starting_umbrellas_at_home should be an integer, \n",
    "    # though numba does not like it when I use an explict assert isinstance or assert type()\n",
    "    assert(starting_umbrellas_at_home == starting_umbrellas_at_office)\n",
    "    assert( 0 < p < 1)\n",
    "\n",
    "    # for simplicity we start with the case where the number of umbrellas at home and office are the same\n",
    "    # note that this setup easily lends\n",
    "    # always a starting state, and absorbing state, then 2 * number of umbrellas at home\n",
    "    q = 1 - p\n",
    "    \n",
    "    total_states = 1 + 1 + 2*starting_umbrellas_at_home\n",
    "    A = np.zeros((total_states, total_states))\n",
    "    \n",
    "    matrix_setter_helper(A, 0, 0, q) # starting state    \n",
    "    \n",
    "    for idx in range(1, total_states):        \n",
    "        if idx % 2 == 1: \n",
    "            # i.e. an odd idx\n",
    "            prob_to_use = p\n",
    "        else: \n",
    "            # i.e. and even idx\n",
    "            prob_to_use = q\n",
    "        \n",
    "        matrix_setter_helper(A, idx, idx - 1, prob_to_use)\n",
    "        matrix_setter_helper(A, idx - 1, idx, prob_to_use)\n",
    "    \n",
    "    ## cleanup for the absorbing state\n",
    "    A[-2,-1] = 0\n",
    "    A[-1,-1] = 1\n",
    "    return A"
   ]
  },
  {
   "cell_type": "code",
   "execution_count": 8,
   "metadata": {
    "collapsed": true
   },
   "outputs": [],
   "source": [
    "R_umbrellas_at_each_location = 4\n",
    "P_rain = 0.55"
   ]
  },
  {
   "cell_type": "code",
   "execution_count": 9,
   "metadata": {
    "collapsed": false
   },
   "outputs": [
    {
     "data": {
      "text/plain": [
       "array([[ 0.45,  0.55,  0.  ,  0.  ,  0.  ,  0.  ,  0.  ,  0.  ,  0.  ,  0.  ],\n",
       "       [ 0.55,  0.  ,  0.45,  0.  ,  0.  ,  0.  ,  0.  ,  0.  ,  0.  ,  0.  ],\n",
       "       [ 0.  ,  0.45,  0.  ,  0.55,  0.  ,  0.  ,  0.  ,  0.  ,  0.  ,  0.  ],\n",
       "       [ 0.  ,  0.  ,  0.55,  0.  ,  0.45,  0.  ,  0.  ,  0.  ,  0.  ,  0.  ],\n",
       "       [ 0.  ,  0.  ,  0.  ,  0.45,  0.  ,  0.55,  0.  ,  0.  ,  0.  ,  0.  ],\n",
       "       [ 0.  ,  0.  ,  0.  ,  0.  ,  0.55,  0.  ,  0.45,  0.  ,  0.  ,  0.  ],\n",
       "       [ 0.  ,  0.  ,  0.  ,  0.  ,  0.  ,  0.45,  0.  ,  0.55,  0.  ,  0.  ],\n",
       "       [ 0.  ,  0.  ,  0.  ,  0.  ,  0.  ,  0.  ,  0.55,  0.  ,  0.45,  0.  ],\n",
       "       [ 0.  ,  0.  ,  0.  ,  0.  ,  0.  ,  0.  ,  0.  ,  0.45,  0.  ,  0.  ],\n",
       "       [ 0.  ,  0.  ,  0.  ,  0.  ,  0.  ,  0.  ,  0.  ,  0.  ,  0.55,  1.  ]])"
      ]
     },
     "execution_count": 9,
     "metadata": {},
     "output_type": "execute_result"
    }
   ],
   "source": [
    "A = create_simplified_A(P_rain, R_umbrellas_at_each_location, R_umbrellas_at_each_location)\n",
    "A"
   ]
  },
  {
   "cell_type": "code",
   "execution_count": 10,
   "metadata": {
    "collapsed": false
   },
   "outputs": [
    {
     "data": {
      "text/plain": [
       "89.898989898989882"
      ]
     },
     "execution_count": 10,
     "metadata": {},
     "output_type": "execute_result"
    }
   ],
   "source": [
    "N_inv, R = partion_transition_matrix(A, first_absorbing_col=-1, last_absorbing_col=-1) \n",
    "ones_v = np.ones(N_inv.shape[0]) # a touch wasteful here\n",
    "the_mean_vector =  np.linalg.solve(N_inv, ones_v)\n",
    "the_mean_vector[0]"
   ]
  },
  {
   "cell_type": "code",
   "execution_count": 11,
   "metadata": {
    "collapsed": false
   },
   "outputs": [
    {
     "data": {
      "text/plain": [
       "array([[ 0.55, -0.55,  0.  ,  0.  ,  0.  ,  0.  ,  0.  ,  0.  ,  0.  ],\n",
       "       [-0.55,  1.  , -0.45,  0.  ,  0.  ,  0.  ,  0.  ,  0.  ,  0.  ],\n",
       "       [ 0.  , -0.45,  1.  , -0.55,  0.  ,  0.  ,  0.  ,  0.  ,  0.  ],\n",
       "       [ 0.  ,  0.  , -0.55,  1.  , -0.45,  0.  ,  0.  ,  0.  ,  0.  ],\n",
       "       [ 0.  ,  0.  ,  0.  , -0.45,  1.  , -0.55,  0.  ,  0.  ,  0.  ],\n",
       "       [ 0.  ,  0.  ,  0.  ,  0.  , -0.55,  1.  , -0.45,  0.  ,  0.  ],\n",
       "       [ 0.  ,  0.  ,  0.  ,  0.  ,  0.  , -0.45,  1.  , -0.55,  0.  ],\n",
       "       [ 0.  ,  0.  ,  0.  ,  0.  ,  0.  ,  0.  , -0.55,  1.  , -0.45],\n",
       "       [ 0.  ,  0.  ,  0.  ,  0.  ,  0.  ,  0.  ,  0.  , -0.45,  1.  ]])"
      ]
     },
     "execution_count": 11,
     "metadata": {},
     "output_type": "execute_result"
    }
   ],
   "source": [
    "N_inv"
   ]
  },
  {
   "cell_type": "code",
   "execution_count": 12,
   "metadata": {
    "collapsed": false
   },
   "outputs": [
    {
     "data": {
      "text/plain": [
       "89.810326"
      ]
     },
     "execution_count": 12,
     "metadata": {},
     "output_type": "execute_result"
    }
   ],
   "source": [
    "run_sim(P_rain, R_umbrellas_at_each_location, R_umbrellas_at_each_location, n_trials= 500000)"
   ]
  },
  {
   "cell_type": "code",
   "execution_count": null,
   "metadata": {
    "collapsed": true
   },
   "outputs": [],
   "source": []
  }
 ],
 "metadata": {
  "kernelspec": {
   "display_name": "Python [py35]",
   "language": "python",
   "name": "Python [py35]"
  },
  "language_info": {
   "codemirror_mode": {
    "name": "ipython",
    "version": 3
   },
   "file_extension": ".py",
   "mimetype": "text/x-python",
   "name": "python",
   "nbconvert_exporter": "python",
   "pygments_lexer": "ipython3",
   "version": "3.5.2"
  }
 },
 "nbformat": 4,
 "nbformat_minor": 0
}
