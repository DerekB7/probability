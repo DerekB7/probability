{
 "cells": [
  {
   "cell_type": "code",
   "execution_count": null,
   "metadata": {
    "collapsed": true
   },
   "outputs": [],
   "source": []
  },
  {
   "cell_type": "markdown",
   "metadata": {},
   "source": [
    "**claim:**\n",
    "\n",
    "$\\sum_{k=2}^{n} \\frac{1}{k(k-1)} = \\frac{1}{1}\\frac{1}{2} + \\frac{1}{2}\\frac{1}{3} + \\frac{1}{3}\\frac{1}{4} + ... + \\frac{1}{n}\\frac{1}{n-1} = 1 - \\frac{1}{n}$\n",
    "\n",
    "**proof:** \n",
    "\n",
    "we inspect each term in that series \n",
    "\n",
    "$\\frac{1}{1}- \\frac{1}{2}= \\frac{1}{2} =  \\frac{1}{1}\\frac{1}{2}$,  \n",
    "$\\frac{1}{2} - \\frac{1}{3}= \\frac{1}{6} = \\frac{1}{2}\\frac{1}{3}$,  \n",
    "$\\frac{1}{3}-\\frac{1}{4} = \\frac{1}{12} = \\frac{1}{3}\\frac{1}{4}$  \n",
    "\n",
    "and for the rth term, we have\n",
    "\n",
    "$\\frac{1}{r-1} - \\frac{1}{r} = \\frac{r}{r(r-1)} - \\frac{r-1}{r(r-1)} = \\frac{1}{r(r-1)}$  \n",
    "  \n",
    "  \n",
    "\n",
    " \n",
    "where we have  \n",
    "$\\left.\\begin{matrix}\n",
    "Line_{0}= & 1 + & \\frac{1}{2} +& \\frac{1}{3}+ & \\frac{1}{4}+ & ... & \\frac{1}{n-1} + & 0 \\\\ \n",
    "Line_{1}= & 0 + &  \\frac{-1}{2} +& \\frac{-1}{3}+ & \\frac{-1}{4}+ & ... & \\frac{-1}{n-1} + & \\frac{-1}{n} \\\\\n",
    "\\end{matrix}\\right.$\n",
    "\n",
    "$\\sum_{k=2}^{n} \\frac{1}{k(k-1)} = Line_0 + Line_1  = 1 - \\frac{1}{n}$\n",
    "\n",
    "note that our original finite series and the decomposed one, which makes use of telescoping, are the same.  There is a subtlety in that the original series is entirely real non-negative, whereas the decomposition introduces alternating signs -- technically this latter setup could be an issue in the case of an infinite series so some extra care is required.  \n",
    "\n",
    "\n",
    "Sticking still with the finite series case, we have: \n",
    "\n",
    "$\\sum_{k=2}^{n} \\frac{1}{k(k-1)} = \\frac{1}{1}\\frac{1}{2} + \\frac{1}{2}\\frac{1}{3} + \\frac{1}{3}\\frac{1}{4} + ... + \\frac{1}{n}\\frac{1}{n-1} = 1 - \\frac{1}{n}$\n",
    "\n",
    "which proves the original claim.\n",
    "\n",
    "Now if we look at limitting behavior:\n",
    "\n",
    "$\\lim_{n \\to \\infty} \\sum_{k=2}^{n} \\frac{1}{k(k-1)}= \\frac{1}{1}\\frac{1}{2} + \\frac{1}{2}\\frac{1}{3} + \\frac{1}{3}\\frac{1}{4} + ...  = \\lim_{n \\to \\infty}\\big(1 - \\frac{1}{n}\\big) = 1$\n",
    "\n",
    "that is,\n",
    "\n",
    "$\\sum_{k=2}^{\\infty} \\frac{1}{k(k-1)} = 1$\n",
    "\n",
    "**extension:**\n",
    "\n",
    "we could look at each term in the above series as being the probability associated with some random variable $X$ taking on the value of $k$.  Since the above discrete distribution is entirely real non-negative and sums to one, it is a valid distribution.  However notice that \n",
    "\n",
    "$E[X] = 2\\frac{1}{1}\\frac{1}{2} + 3\\frac{1}{2}\\frac{1}{3} + 4\\frac{1}{3}\\frac{1}{4} + ...  = \\frac{1}{1} + \\frac{1}{2} + \\frac{1}{3} + ...  = \\infty$\n",
    "\n",
    "which is the familiar harmonic series, which we know does not converge.  Hence we say $E[X] = \\infty$ or $E[X]$ does not exist (because $\\infty$ is not part of the real number system). \n",
    "\n"
   ]
  },
  {
   "cell_type": "code",
   "execution_count": null,
   "metadata": {
    "collapsed": true
   },
   "outputs": [],
   "source": []
  }
 ],
 "metadata": {
  "kernelspec": {
   "display_name": "Python [py35]",
   "language": "python",
   "name": "Python [py35]"
  },
  "language_info": {
   "codemirror_mode": {
    "name": "ipython",
    "version": 3
   },
   "file_extension": ".py",
   "mimetype": "text/x-python",
   "name": "python",
   "nbconvert_exporter": "python",
   "pygments_lexer": "ipython3",
   "version": "3.5.2"
  }
 },
 "nbformat": 4,
 "nbformat_minor": 0
}
