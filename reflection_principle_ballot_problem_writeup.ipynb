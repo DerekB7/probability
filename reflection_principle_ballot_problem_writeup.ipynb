{
 "cells": [
  {
   "cell_type": "markdown",
   "metadata": {},
   "source": [
    "Here is a simple workthrough of the ballot problem.  (See illustrations in bottom window for additonal information.) \n",
    "\n",
    "Let's say there are 9 votes, with 5 in favor of candidate A and 4 in favor of candidate B.  These votes are all placed in a box and pulled out one by one, with the vote count being updated each time a ballot is taken out of the box.  Excluding the count at time zero (i.e. 0-0), what's the probability that candidate will be ahead the entire time during the vote counting? \n",
    "\n",
    "To solve this we say $p(NeverTied) = \\frac{numerator}{denominator}$\n",
    "\n",
    "The denominator is simply $\\binom{9}{5} = \\binom{9}{4} = 126$\n",
    "\n",
    "The numerator is the tough part.  We could run an MC sim in Python or R to estimate this, to build intuition, but that won't necessarily give us a closed form answer. (There is also slick Pascal-style / aka mutated law of iterative expectations approach, but this to requires iterative calculations and seems unlikely to yield a closed form solution -- but still cool and relevant for certain option pricing models.)\n",
    "\n",
    "Another approach is to solve for a complement, or do a decomposition or find a bijection.  We'll do a bit of all 3. First, in solving the numerator, we can safely ignore all cases when a vote for B is drawn first.  [See image 1.]  Note: that my axes are # of votes counted on the x-axis, and cumulative vote sum (i.e. votes for A counted - votes for B counted) on the y axis.\n",
    "\n",
    "Now what we are left with is calculating the probability that A is drawn first, and there is never an even cumulative vote sum after that.  \n",
    "\n",
    "In this conditional universe, we'll aim to calculate the complement, which is the probability that A is drawn first and then has an even cumulative vote sum at some point.  Even in this conditional universe and going after the complement, it is a tough calculation.  [see image 2].\n",
    "\n",
    "Now, I don't really like tough problems.  Let's solve an easier problem first. [See image 3].  What if B was drawn first?  How many ways are there to get to the destination of (9,1)?  The answer is $\\binom{8}{5} = \\binom{8}{3} = 56$ because there are 8 votes remaining in this scenario, and 5 of them are ups and 3 of them are downs.  (Note because we are interested in the probability of a tie, the 'barrier' of interest here is at y = 0, we could instead change the problem a bit and set the barrier = any arbitrary number, it does not have to be at y = 0-- the barrier is what is key and ultimately what we do our reflections about).\n",
    "\n",
    "My final claim is that we actually just calculated the difficult complement that we wanted.  But how?  There are a few ways to demonstrate this, but the way I like to think about this is in terms of a specific decomposition.  The number of ways to go from having drawn A first, then tieing on the next step, and then ending up at our endpoint of (9,1) = $\\binom{8}{4}*\\binom{7}{3}$ i.e. we just decomposed the relevant probability into two parts -- number of ways to first hit the barrier at point x = 2, and number of ways to end up at (9,1) from x = 2.  So the total number of ways to hit the barrier, given we draw A on first draw $= \\sum nWaysToFirstHitBarrierAtPoint_i * WaysFromBarrierAtPoint_iToEndpoint$\n",
    "\n",
    "My claim is that the second part is *not* path dependent and it is easy.  I.e. The calculation from a given point on the barrier to (9,1) is a very straightforward calculation that is independent of how we got there.  What is interesting is that the number of ways from (1,1) to a given point on the barrier where we first 'touch it' is equivalent to its mirror image.  Thus the number of ways from (1,1) to a given 'first hit' with the barrier at y = 0 is identical to the number of ways for a 'first hit' from (1,-1) to the barrier at y = 0, and the ways from that 'first hit' to our endpoint (9,1) are identical because that second part is not path dependent.  Thus we have demonstrated a bijection between the hard complement problem and an easy problem -- the reflection over the barrier.  \n",
    "\n",
    "So circling back to the beginning: we have 126 total possible paths from the origin to (9,1).  Of these, we immediately get rid of $\\frac{4}{9}(126) = 56$ ways for a B vote to be the first vote drawn. We also get rid of $\\binom{8}{5} = \\binom{8}{3} = 56$ outcomes that intersect the barrier.  We are left with $126 - 56 - 56 = 14$ possibilities for success.  Thus our probability of never having an even count is $\\frac{14}{126} = 0.111$ \n",
    "\n",
    "At its core this should remind us a bit of many things, including the gambler's ruin, except the core idea is we are sampling without replacement and playing the game for a definite duration.  \n",
    "\n"
   ]
  },
  {
   "cell_type": "markdown",
   "metadata": {},
   "source": [
    "![supporting sketches ](illustrations/ballot_illustrations.jpeg)"
   ]
  },
  {
   "cell_type": "code",
   "execution_count": null,
   "metadata": {
    "collapsed": true
   },
   "outputs": [],
   "source": []
  }
 ],
 "metadata": {
  "kernelspec": {
   "display_name": "Python 2",
   "language": "python",
   "name": "python2"
  },
  "language_info": {
   "codemirror_mode": {
    "name": "ipython",
    "version": 2
   },
   "file_extension": ".py",
   "mimetype": "text/x-python",
   "name": "python",
   "nbconvert_exporter": "python",
   "pygments_lexer": "ipython2",
   "version": "2.7.9"
  }
 },
 "nbformat": 4,
 "nbformat_minor": 0
}
