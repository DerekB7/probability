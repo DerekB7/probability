{
 "cells": [
  {
   "cell_type": "markdown",
   "metadata": {},
   "source": [
    "As a supplement to unit 22's derivation for the mean and variance for the Poisson distribution, I've put in the below post. I think the version in the lecture video is a lot better for deriving intuition and tying directly to the binomial distribution... but I am a bit of a sucker for clever infinite series solutions so I went ahead and did this. \n",
    "\n",
    "Let our Poisson distribution be characterized by the following PMF\n",
    "\n",
    "$p(k) = \\frac{e^{-m}m^{k}}{k!}$ for $k = 0, 1, 2, 3, ...$\n",
    "\n",
    "note: you can substitute in $\\lambda \\tau$ for $m$ (or just $\\lambda$ for $m$) if you'd like but I'm trying to keep the symbols straightforward for now.\n",
    "\n",
    "Since this is a valid PMF, we know: $\\sum_{k = 0}^{\\infty} \\frac{e^{-m}m^{k}}{k!} = 1$\n",
    "\n",
    "Now we want to calculate the mean K value for this distribution, i.e. compute $E[K]$\n",
    "\n",
    "$E[K] = \\sum_{k = 0}^{\\infty} k\\frac{e^{-m}m^{k}}{k!}$\n",
    "\n",
    "note that there is zero payoff at k = 0 so we can begin the summation at k = 1\n",
    "\n",
    "$E[K] = \\sum_{k = 1}^{\\infty} k\\frac{e^{-m}m^{k}}{k!}$ \n",
    "\n",
    "$E[K] = \\sum_{k = 1}^{\\infty} k\\frac{e^{-m}m^{k}}{k(k-1)!}$ \n",
    "\n",
    "$E[K] = \\sum_{k = 1}^{\\infty} \\frac{e^{-m}m^{k}}{(k-1)!}$\n",
    "\n",
    "$E[K] = \\sum_{k = 1}^{\\infty} m\\frac{e^{-m}m^{k-1}}{(k-1)!}$\n",
    "\n",
    "$E[K] = m * \\Bigg( \\sum_{k = 1}^{\\infty} \\frac{e^{-m}m^{k-1}}{(k-1)!}  \\Bigg)$\n",
    "\n",
    "$E[K] = m * (1)$\n",
    "\n",
    "$E[K] = m$\n",
    "\n",
    "notice that the summation in parentheses itself describes the total probability of a valid Poisson pmf and thus:\n",
    "$\\sum_{k = 1}^{\\infty} \\frac{e^{-m}m^{k-1}}{(k-1)!} = \\sum_{k = 0}^{\\infty} \\frac{e^{-m}m^{k}}{k!} = 1$\n",
    "\n",
    "The key idea in the above is that we can make our life much easier if the 'payoff' component of our expected value calculation cancels a portion of the factorial in the denominator.  Thus to calculate variance, we know  $var(K) = E[K^2]- E[K]^2 = E[K^2] - m^2$.  So we need to calculate $E[K^2]$ but this is difficult to calculate head on.  Instead we'll calculate something similar that has the added benefit of cancelling a chunk of the factorial in the denominator.  \n",
    "\n",
    "Thus we calculate $E[K^2] - E[K] = E[K^2 - K] = E[K(K-1)]$\n",
    "\n",
    "$ E[K(K-1)] = \\sum_{k = 0}^{\\infty} k(k - 1)\\frac{e^{-m}m^{k}}{k!}$\n",
    "\n",
    "the payoff is zero when k = 0 and when k = 1 so we can remove them from the summation\n",
    "\n",
    "$ E[K(K-1)] = \\sum_{k = 2}^{\\infty} k(k - 1)\\frac{e^{-m}m^{k}}{k!}$\n",
    "\n",
    "$ E[K(K-1)] = \\sum_{k = 2}^{\\infty} k(k - 1)\\frac{e^{-m}m^{k}}{k(k - 1)(k - 2)!}$\n",
    "\n",
    "$ E[K(K-1)] = \\sum_{k = 2}^{\\infty} \\frac{e^{-m}m^{k}}{(k-2)!}$\n",
    "\n",
    "$ E[K(K-1)] = \\sum_{k = 2}^{\\infty} m^2\\frac{e^{-m}m^{k-2}}{(k-2)!}$\n",
    "\n",
    "$ E[K(K-1)] = m^2 \\Bigg(\\sum_{k = 2}^{\\infty} \\frac{e^{-m}m^{k-2}}{(k-2)!}\\Bigg)$\n",
    "\n",
    "$ E[K(K-1)] = m^2 * (1)$\n",
    "\n",
    "$ E[K(K-1)] = m^2 $\n",
    "\n",
    "notice that the summation in parentheses itself encompasses the entirety of a valid Poisson pmf and thus:\n",
    "\n",
    "$\\sum_{k = 2}^{\\infty} \\frac{e^{-m}m^{k-2}}{(k-2)!} = \\sum_{k = 0}^{\\infty} \\frac{e^{-m}m^{k}}{k!} = 1$\n",
    "\n",
    "- - - - \n",
    "so finally :\n",
    "\n",
    "$ E[K(K-1)] = E[K^2] - E[K] = m^2 $\n",
    "\n",
    "$E[K^2] - E[K] = m^2$\n",
    "\n",
    "$E[K^2] = m^2 + \\big(E[K]\\big)$\n",
    "\n",
    "$E[K^2] = m^2 + m$\n",
    "\n",
    "$var(K) = E[K^2] - E[K]^2 =  \\big(m^2 + m\\big) - m^2$\n",
    "\n",
    "$var(K) = m$\n"
   ]
  },
  {
   "cell_type": "code",
   "execution_count": null,
   "metadata": {
    "collapsed": true
   },
   "outputs": [],
   "source": []
  },
  {
   "cell_type": "markdown",
   "metadata": {},
   "source": [
    "I got the idea for the clever use of the underlying probability distribution to simplify the expectations calculation from Mosteller's excellent book \"Fifty Challenging Problems in Probability.\"  The book is about 5 decades old at this point but the problems are on the whole really great.  "
   ]
  },
  {
   "cell_type": "code",
   "execution_count": 14,
   "metadata": {
    "collapsed": false
   },
   "outputs": [
    {
     "data": {
      "text/latex": [
       "$$E[k] = \\sum_{k = 0}^{\\infty} \\frac{ke^{-m}m^{k}}{k!}$$\n",
       "$$E[k] = \\sum_{k = 1}^{\\infty} \\frac{ke^{-m}m^{k}}{k!}$$\n",
       "$$E[k] = \\sum_{k = 1}^{\\infty} \\frac{e^{-m}m^{k}}{(k-1)!}$$\n",
       "$$E[k] = \\sum_{k = 1}^{\\infty} m\\frac{e^{-m}m^{k-1}}{(k-1)!}$$\n",
       "$$E[k] = m \\sum_{k = 1}^{\\infty} \\frac{e^{-m}m^{k-1}}{(k-1)!}$$\n",
       "\n",
       "$$\\sum_{k = 1}^{\\infty} \\frac{e^{-m}m^{k-1}}{(k-1)!} = \\sum_{k = 0}^{\\infty} \\frac{e^{-m}m^{k}}{k!} = 1$$\n",
       "\n",
       "$$E[k] = m * 1$$\n",
       "$$E[k] = m$$"
      ],
      "text/plain": [
       "<IPython.core.display.Latex object>"
      ]
     },
     "metadata": {},
     "output_type": "display_data"
    }
   ],
   "source": [
    "%%latex\n",
    "$$E[k] = \\sum_{k = 0}^{\\infty} \\frac{ke^{-m}m^{k}}{k!}$$\n",
    "$$E[k] = \\sum_{k = 1}^{\\infty} \\frac{ke^{-m}m^{k}}{k!}$$\n",
    "$$E[k] = \\sum_{k = 1}^{\\infty} \\frac{e^{-m}m^{k}}{(k-1)!}$$\n",
    "$$E[k] = \\sum_{k = 1}^{\\infty} m\\frac{e^{-m}m^{k-1}}{(k-1)!}$$\n",
    "$$E[k] = m \\sum_{k = 1}^{\\infty} \\frac{e^{-m}m^{k-1}}{(k-1)!}$$\n",
    "\n",
    "$$\\sum_{k = 1}^{\\infty} \\frac{e^{-m}m^{k-1}}{(k-1)!} = \\sum_{k = 0}^{\\infty} \\frac{e^{-m}m^{k}}{k!} = 1$$\n",
    "\n",
    "$$E[k] = m * 1$$\n",
    "$$E[k] = m$$"
   ]
  }
 ],
 "metadata": {
  "kernelspec": {
   "display_name": "Python [py35]",
   "language": "python",
   "name": "Python [py35]"
  },
  "language_info": {
   "codemirror_mode": {
    "name": "ipython",
    "version": 3
   },
   "file_extension": ".py",
   "mimetype": "text/x-python",
   "name": "python",
   "nbconvert_exporter": "python",
   "pygments_lexer": "ipython3",
   "version": "3.5.2"
  }
 },
 "nbformat": 4,
 "nbformat_minor": 0
}
