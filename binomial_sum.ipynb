{
 "cells": [
  {
   "cell_type": "code",
   "execution_count": null,
   "metadata": {
    "collapsed": true
   },
   "outputs": [],
   "source": []
  },
  {
   "cell_type": "markdown",
   "metadata": {},
   "source": [
    "**Claim:** (where $k > n$)\n",
    "\n",
    "\n",
    "$\\sum_{m = n}^{k} \\binom{m}{n} = \\binom{k + 1}{n + 1}$\n",
    "\n",
    "\n",
    "\n",
    "**Proof:**\n",
    "\n",
    "This is a partitioning argument.  \n",
    "\n",
    "**Step 1**: Consider a grid, like Manhattan, where you want to travel from start to finish in an optimal manner.  To do this you must travel $n+1$ steps to the right and $k – n$ steps upward.  \n",
    "\n",
    "![graphical proof step 1](illustrations/binomial_sum_grid_setupCopy.png)\n",
    "\n",
    "Clearly the total (Manhattan) distance you must travel is $n + 1 + (k - n) = k + 1$.   So you must travel a total distance of $k + 1$ steps, and you must *choose* $n + 1$ of them as being to the right.  Which means that the total number of possible shortest paths from start to finish is given below:\n",
    "\n",
    "$\\binom{n + 1 + (k-n)}{n + 1} = \\binom{k + 1}{n+1}$\n",
    "\n",
    "- - - -\n",
    "**Step 2**: Take another look at this same grid -- this time partitioned, as shown below.  If you are following a shortest path from start to finish, you will go through one and only one blue star on your journey.  \n",
    "\n",
    "\n",
    "![graphical proof step 2](illustrations/binomial_sum_grid_part2Copy.png)\n",
    "For the bottom star there are optimal $\\binom{n}{n}$ ways to the point just to the left of the star.  From here there is only one optimal path through the star, and from there, there is only one optimal path to the finish. For the second to bottom star there are $\\binom{n + 1}{n}$ shortest paths to the point just to the left of the star.  From here there is only one optimal path through the star, and from there, there is only one optimal path to the finish. \n",
    "\n",
    "This pattern continues all the way to the top star. For the avoidance of doubt: at the top star, there are clearly $\\binom{k}{n}$ shortest paths to the point just before the star, one optimal path through the star, and from there you are done.  \n",
    "\n",
    "We have now counted all paths from start to finish– and we have counted every path only once.  Thus we know total paths from start to finish: $\\binom{k + 1}{n + 1} = \\sum_{m = n}^{k} \\binom{m}{n}$\n",
    "\n"
   ]
  },
  {
   "cell_type": "code",
   "execution_count": null,
   "metadata": {
    "collapsed": true
   },
   "outputs": [],
   "source": []
  }
 ],
 "metadata": {
  "kernelspec": {
   "display_name": "Python 2",
   "language": "python",
   "name": "python2"
  },
  "language_info": {
   "codemirror_mode": {
    "name": "ipython",
    "version": 2
   },
   "file_extension": ".py",
   "mimetype": "text/x-python",
   "name": "python",
   "nbconvert_exporter": "python",
   "pygments_lexer": "ipython2",
   "version": "2.7.9"
  }
 },
 "nbformat": 4,
 "nbformat_minor": 0
}
