{
 "cells": [
  {
   "cell_type": "markdown",
   "metadata": {},
   "source": [
    "**Problem statement:**  \n",
    "\n",
    "consider the classic german tank estimation problem.  Suppose you see n (perhaps n = 15) marathon runners and the largest number on the jersey is 105, then we estimate that the largest jersey number of all marathon runners is (15+1)/15 * 105 -1 = 111 -- i.e. that there are 111 marathon runners with numberings 1, 2, 3, ..., 110, 111.  \n",
    "\n",
    "This problem asks us to run simulations and compare actual maximal numbers with those of our estimates, for various sample sizes (where we sample without replacement).  Then it asks us to plot the problem -- which turns out to be a bell curve. \n",
    "\n",
    "note: this one is a bit different than typical problem statements"
   ]
  },
  {
   "cell_type": "code",
   "execution_count": null,
   "metadata": {
    "collapsed": true
   },
   "outputs": [],
   "source": []
  },
  {
   "cell_type": "markdown",
   "metadata": {},
   "source": [
    "Below is the basic Numba implementation that I did for this"
   ]
  },
  {
   "cell_type": "code",
   "execution_count": 1,
   "metadata": {
    "collapsed": false
   },
   "outputs": [],
   "source": [
    "import numpy as np\n",
    "import numba\n",
    "import time\n",
    "np.set_printoptions(precision = 2, linewidth=180)\n",
    "# huge find:%%!\n",
    "# press 'l' in command mode (esc) to toggle line numbers in a given cell, which is quite helpful for auditing\n",
    "import matplotlib.pyplot as plt\n",
    "\n",
    "\n",
    "\n",
    "@numba.jit(nopython= True)\n",
    "def run_sim(percentage_to_sample, r_trials):\n",
    "    # A = number of senators against of the bill, odd naming convention but from the book\n",
    "    # M = total who miss the vote -- we in effect are conditioning on this...\n",
    "    # need to be greater than this threshold\n",
    "    percentage_error_estimates = np.zeros(r_trials)\n",
    "    for idx in range(r_trials):\n",
    "        bigN = int(np.random.uniform(100, 1000 + 1))\n",
    "        number_to_sample = int(percentage_to_sample * bigN)\n",
    "        positions = np.random.choice(bigN, number_to_sample, False) + 1\n",
    "        # the + 1 that is broadcast in is to deal with python indexing at zero, but the problem indexes at one\n",
    "        maximal_number = np.max(positions)\n",
    "        estimate_via_formula = (number_to_sample + 1) / number_to_sample * maximal_number - 1\n",
    "        percent_error = estimate_via_formula / bigN\n",
    "        percentage_error_estimates[idx] += percent_error\n",
    "    return percentage_error_estimates\n"
   ]
  },
  {
   "cell_type": "code",
   "execution_count": 2,
   "metadata": {
    "collapsed": false
   },
   "outputs": [
    {
     "name": "stdout",
     "output_type": "stream",
     "text": [
      "time taken:  1.44056 \n",
      "\n",
      "the mean is 0.999986640036  and variance is  0.00352396532286\n"
     ]
    },
    {
     "data": {
      "image/png": "[encoded data removed]",
      "text/plain": [
       "<matplotlib.figure.Figure at 0x7f80941230f0>"
      ]
     },
     "metadata": {},
     "output_type": "display_data"
    }
   ],
   "source": [
    "my_sampling_rate = 0.05\n",
    "title = \"histogram of errors with the tank method using sampling rate: \\n \" + str(my_sampling_rate*100) + \"%\"\n",
    "beg_time = time.clock()\n",
    "my_array = run_sim(my_sampling_rate, r_trials = 100000)\n",
    "\n",
    "the_mean = np.mean(my_array)\n",
    "print(\"time taken: \", time.clock()- beg_time, \"\\n\")\n",
    "the_variance = np.mean((my_array - the_mean)**2)\n",
    "print(\"the mean is\", the_mean, \" and variance is \", the_variance)\n",
    "# n, bins, patches = plt.hist(my_array, bins= 120, normed=True, facecolor='green', alpha=0.75)\n",
    "n, bins, patches = plt.hist(my_array, bins= 120,normed= False , facecolor='green', alpha=0.75)\n",
    "# I haven't decided how I feel about it being normed or not... exlanation in the docs didn't do much for me, though it did say normed by default is False\n",
    "# note: alpha is just the amount of transparency\n",
    "\n",
    "plt.xlabel('percent error')\n",
    "plt.ylabel('frequency')\n",
    "plt.title(title)\n",
    "# plt.axis([40, 160, 0, 0.03])\n",
    "plt.grid(True)\n",
    "\n",
    "plt.show()\n"
   ]
  },
  {
   "cell_type": "markdown",
   "metadata": {},
   "source": [
    "Below is the cython implemented simulation (I only returned the relevant array -- did not do the graphing here)"
   ]
  },
  {
   "cell_type": "code",
   "execution_count": 3,
   "metadata": {
    "collapsed": false
   },
   "outputs": [],
   "source": [
    "# %load_ext cythonmagic"
   ]
  },
  {
   "cell_type": "code",
   "execution_count": 4,
   "metadata": {
    "collapsed": false
   },
   "outputs": [],
   "source": [
    "%load_ext Cython\n",
    "# from libc.stdlib cimport rand, RAND_MAX\n",
    "# from libc.stdlib import rand, RAND_MAX\n"
   ]
  },
  {
   "cell_type": "code",
   "execution_count": 5,
   "metadata": {
    "collapsed": true
   },
   "outputs": [],
   "source": [
    "# from libc.stdlib import rand, RAND_MAX\n"
   ]
  },
  {
   "cell_type": "code",
   "execution_count": 6,
   "metadata": {
    "collapsed": false
   },
   "outputs": [],
   "source": [
    "%%cython\n",
    "import numpy as np\n",
    "cimport numpy as np\n",
    "# import numba\n",
    "# np.import_array()\n",
    "# cimport cython\n",
    "\n",
    "from libc.stdlib cimport rand, RAND_MAX\n",
    "# https://stackoverflow.com/questions/38768637/cython-in-jupyter-notebook\n",
    "# key comments in there is \"\n",
    "# \"you use cython code in special magic cells. You define a cython cell by starting your cell with %%cython\"\n",
    "\n",
    "def cy_run_sim(float percentage_to_sample, int r_trials):\n",
    "    \"\"\"\n",
    "    This is a very suboptimal implementation because it requires sampling without replacement  of arrays that \n",
    "    have a variable (and indeed random) size.  Importing a proper sophisticated random number library from C++ or \n",
    "    perhaps regular C (that I didn't find) would fix this.  \n",
    "    \n",
    "    Instead I used rand and RAND_MAX which are not even close to being the right tools for this job.  \n",
    "    Notice that while verbose, in problem 11, because the arrays had a constant size, we could implement knuth et al \n",
    "    algorithm and use rand and RAND_MAX to effectively sample without replacement.  (Though even then that violate \n",
    "    my common sense rule of don't start from scratch when basic highly optimized and bug free modules exist for what\n",
    "    you're trying to do.)  \n",
    "     \"\"\"\n",
    "    cdef int i\n",
    "    cdef int j\n",
    "    cdef int biggestval\n",
    "    cdef int curval\n",
    "    cdef int curidx\n",
    "    # the below link is what reminded me I need to declare the typing of the i because I'm using it...\n",
    "    # https://lectures.quantecon.org/py/need_for_speed.html#cython\n",
    "\n",
    "    # senators_array[0:total_in_favor] += 1\n",
    "    cdef int upperval = 1000 # inclusive\n",
    "    cdef int lowerval = 100 # inclusive\n",
    "\n",
    "    cdef my_interval = upperval - lowerval + 1\n",
    "    # almost like an affine translation though thats a bit of an abuse of language\n",
    "\n",
    "    cdef int my_idx = lowerval\n",
    "    cdef int bigN = 1000\n",
    "    # np.random.shuffle(senators_array) # its this line and this line alone that seems to be killing performance...\n",
    "    cdef int number_to_sample = 0\n",
    "\n",
    "    # I need to vectorize this if I want to minimize calls to numpy routines...\n",
    "    cdef np.ndarray[np.int_t, ndim = 1, negative_indices = False, mode = 'c']ones = np.ones(r_trials, dtype= np.int64) # one for each trial\n",
    "    cdef np.ndarray[np.int_t, ndim = 1, negative_indices = False, mode = 'c']sequence = np.arange(1, upperval +1, dtype= np.int64) # one for each trial\n",
    "    cdef np.ndarray[np.int_t, ndim = 2, negative_indices = False, mode = 'c']main_matrix = np.outer(ones, sequence)\n",
    "    # not sure if I need a declaration here\n",
    "\n",
    "    cdef np.ndarray[np.double_t, ndim = 1, negative_indices = False, mode = 'c'] scoring_array = np.zeros(r_trials, dtype = np.float64)\n",
    "\n",
    "    for i in range(r_trials):\n",
    "        # running_count += senators_array[i]\n",
    "        # running_count += senators_array[magical_indices[i]]\n",
    "        # my_idx = np.random.randint(r - i) # but even if I moved this out to a c\n",
    "        bigN = lowerval\n",
    "        bigN += int((my_interval) * (float(rand())/RAND_MAX)) # this should be an integer I think\n",
    "        # the real problem so far as I can tell is there isn't a good way to sample without replacement in C\n",
    "        # so I'm stuck using this monstrosity that I hacked together\n",
    "        number_to_sample = int((percentage_to_sample * float(bigN))) # maybe an issue here, not sure\n",
    "        # now how can I somewhat efficiently sample from this without replacement????\n",
    "        biggestval = 0\n",
    "\n",
    "        for j in range(number_to_sample):\n",
    "            curidx = int((bigN - j) * (float(rand())/RAND_MAX))\n",
    "            curval = main_matrix[i, curidx]\n",
    "            if curval > biggestval:\n",
    "                biggestval = curval\n",
    "            main_matrix[i, curidx], main_matrix[i, bigN - j - 1] = main_matrix[i, bigN - j - 1], main_matrix[i, curidx]\n",
    "            # the swap\n",
    "\n",
    "        scoring_array[i] += (((float(number_to_sample) + 1.0) / float(number_to_sample)) * float(biggestval) - 1.0)/ float(bigN)                \n",
    "\n",
    "    return scoring_array\n",
    "\n",
    "# answer = run_sim(0.05, 100)\n",
    "# answer = run_sim(A= 49, M=3, n_trials=1000000)\n",
    "# print(answer)\n"
   ]
  },
  {
   "cell_type": "code",
   "execution_count": 7,
   "metadata": {
    "collapsed": false
   },
   "outputs": [
    {
     "data": {
      "text/plain": [
       "1.0000239109243396"
      ]
     },
     "execution_count": 7,
     "metadata": {},
     "output_type": "execute_result"
    }
   ],
   "source": [
    "result = cy_run_sim(0.2, 100000)\n",
    "np.mean(result)"
   ]
  },
  {
   "cell_type": "code",
   "execution_count": 8,
   "metadata": {
    "collapsed": false
   },
   "outputs": [
    {
     "name": "stdout",
     "output_type": "stream",
     "text": [
      "means\n",
      "1.00002398999 0.999994583424 \n",
      "\n",
      "variance\n",
      "0.000195713249296 0.00019511687144 \n",
      "\n"
     ]
    }
   ],
   "source": [
    "the_sampling_rate = 0.2\n",
    "total_trials = 500000 \n",
    "# anything much higher than this runs into memory issues in the cython implementation, which is unfortunate\n",
    "\n",
    "my_numba_generated_array = run_sim(the_sampling_rate, r_trials = total_trials)\n",
    "my_cython_generated_array = cy_run_sim(the_sampling_rate, total_trials)\n",
    "\n",
    "the_mean_numba = np.mean(my_numba_generated_array)\n",
    "the_mean_cython = np.mean(my_cython_generated_array)\n",
    "\n",
    "the_variance_numba = np.mean((my_numba_generated_array - the_mean_numba)**2)\n",
    "the_variance_cython = np.mean((my_cython_generated_array - the_mean_cython)**2)\n",
    "\n",
    "\n",
    "print(\"means\")\n",
    "print(the_mean_numba, the_mean_cython, \"\\n\")\n",
    "print(\"variance\")\n",
    "print(the_variance_numba, the_variance_cython, \"\\n\")\n"
   ]
  },
  {
   "cell_type": "code",
   "execution_count": 9,
   "metadata": {
    "collapsed": false
   },
   "outputs": [
    {
     "data": {
      "image/png": "[encoded data removed]",
      "text/plain": [
       "<matplotlib.figure.Figure at 0x7f809016f470>"
      ]
     },
     "metadata": {},
     "output_type": "display_data"
    }
   ],
   "source": [
    "n, bins, patches = plt.hist(my_numba_generated_array, bins= 120,normed= False , facecolor='green', alpha=0.75)\n",
    "# I haven't decided how I feel about it being normed or not... exlanation in the docs didn't do much for me, though it did say normed by default is False\n",
    "# note: alpha is just the amount of transparency\n",
    "\n",
    "plt.xlabel('percent error')\n",
    "plt.ylabel('frequency')\n",
    "plt.title(title)\n",
    "# plt.axis([40, 160, 0, 0.03])\n",
    "plt.grid(True)\n",
    "\n",
    "plt.show()\n"
   ]
  },
  {
   "cell_type": "code",
   "execution_count": 10,
   "metadata": {
    "collapsed": false
   },
   "outputs": [
    {
     "data": {
      "image/png": "[encoded data removed]",
      "text/plain": [
       "<matplotlib.figure.Figure at 0x7f809016f240>"
      ]
     },
     "metadata": {},
     "output_type": "display_data"
    }
   ],
   "source": [
    "n, bins, patches = plt.hist(my_cython_generated_array, bins= 120,normed= False , facecolor='green', alpha=0.75)\n",
    "# I haven't decided how I feel about it being normed or not... exlanation in the docs didn't do much for me, though it did say normed by default is False\n",
    "# note: alpha is just the amount of transparency\n",
    "\n",
    "plt.xlabel('percent error')\n",
    "plt.ylabel('frequency')\n",
    "plt.title(title)\n",
    "# plt.axis([40, 160, 0, 0.03])\n",
    "plt.grid(True)\n",
    "\n",
    "plt.show()\n"
   ]
  },
  {
   "cell_type": "code",
   "execution_count": 11,
   "metadata": {
    "collapsed": false
   },
   "outputs": [
    {
     "name": "stdout",
     "output_type": "stream",
     "text": [
      "1 loop, best of 3: 1.62 s per loop\n"
     ]
    }
   ],
   "source": [
    "%timeit my_numba_generated_array = run_sim(the_sampling_rate, r_trials = total_trials)"
   ]
  },
  {
   "cell_type": "code",
   "execution_count": 12,
   "metadata": {
    "collapsed": false
   },
   "outputs": [
    {
     "name": "stdout",
     "output_type": "stream",
     "text": [
      "1 loop, best of 3: 5.96 s per loop\n"
     ]
    }
   ],
   "source": [
    "%timeit my_cython_generated_array = cy_run_sim(the_sampling_rate, total_trials)"
   ]
  },
  {
   "cell_type": "code",
   "execution_count": null,
   "metadata": {
    "collapsed": true
   },
   "outputs": [],
   "source": []
  }
 ],
 "metadata": {
  "kernelspec": {
   "display_name": "Python [py35]",
   "language": "python",
   "name": "Python [py35]"
  },
  "language_info": {
   "codemirror_mode": {
    "name": "ipython",
    "version": 3
   },
   "file_extension": ".py",
   "mimetype": "text/x-python",
   "name": "python",
   "nbconvert_exporter": "python",
   "pygments_lexer": "ipython3",
   "version": "3.5.2"
  }
 },
 "nbformat": 4,
 "nbformat_minor": 0
}
