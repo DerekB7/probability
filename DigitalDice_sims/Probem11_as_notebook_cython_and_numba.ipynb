{
 "cells": [
  {
   "cell_type": "markdown",
   "metadata": {},
   "source": [
    "**Problem statement: **\n",
    "\n",
    "suppose we have 100 senators, and A senators are against a bill, where A < 50.  You must have > 50% of the votes for a bill to pass -- aka if the yays are $\\leq 0.5$ the bill fails.  \n",
    "\n",
    "Then on the day of the vote, we know that M senators are randomly sick, stuck in traffic, etc. and don't show up.  What is the probability that the bill passes?\n"
   ]
  },
  {
   "cell_type": "code",
   "execution_count": 1,
   "metadata": {
    "collapsed": true
   },
   "outputs": [],
   "source": [
    "import numpy as np\n",
    "import numba\n",
    "import time\n",
    "r_sentators = 100\n",
    "\n",
    "\n",
    "@numba.jit(nopython= True)\n",
    "def run_sim(A, M, r = 100, n_trials = 1000, min_threshold_to_pass = 0.5):\n",
    "    \"\"\"\n",
    "    This returns the MC estimate of the percent of bills that pass\n",
    "    \"\"\"\n",
    "    # sen_array is the array of senators\n",
    "    # A = number of senators against of the bill, odd naming convention but from the book\n",
    "    # M = total who miss the vote -- we in effect are conditioning on this...\n",
    "    # need to be greater than this threshold\n",
    "    total_who_show = r - M\n",
    "    total_in_favor = r - A\n",
    "\n",
    "    sen_array = np.zeros(r)\n",
    "    sen_array[0:total_in_favor] += 1\n",
    "\n",
    "    arrivals_array = np.zeros(r)\n",
    "    arrivals_array[0:total_who_show] += 1 # set equal to 0\n",
    "    # print(arrivals_array, np.sum(arrivals_array))\n",
    "    successes = 0.0\n",
    "    adjusted_threshold = total_who_show * min_threshold_to_pass\n",
    "    for _ in range(n_trials):        \n",
    "        if np.sum(np.random.choice(sen_array, total_who_show, replace = False)) > adjusted_threshold:\n",
    "            # this could easily all be vectorized, but the goal seems to be to do this in python, and ultimately get cython / c, speedups\n",
    "            successes += 1.0\n",
    "    return successes / n_trials\n",
    "\n",
    "\n",
    "\n"
   ]
  },
  {
   "cell_type": "code",
   "execution_count": 2,
   "metadata": {
    "collapsed": false
   },
   "outputs": [
    {
     "name": "stdout",
     "output_type": "stream",
     "text": [
      "0.837874\n"
     ]
    }
   ],
   "source": [
    "Big_A = 45\n",
    "Big_M = 51\n",
    "N_trials = 1000000\n",
    "\n",
    "beg_time = time.clock()\n",
    "answer = run_sim(A= Big_A, M= Big_M, n_trials= N_trials)\n",
    "print(answer)\n",
    "\n"
   ]
  },
  {
   "cell_type": "code",
   "execution_count": null,
   "metadata": {
    "collapsed": true
   },
   "outputs": [],
   "source": []
  },
  {
   "cell_type": "code",
   "execution_count": 3,
   "metadata": {
    "collapsed": false
   },
   "outputs": [],
   "source": [
    "# the cython version is below\n",
    "%load_ext Cython"
   ]
  },
  {
   "cell_type": "code",
   "execution_count": 4,
   "metadata": {
    "collapsed": true
   },
   "outputs": [],
   "source": [
    "%%cython\n",
    "\n",
    "import numpy as np\n",
    "cimport numpy as np\n",
    "np.import_array()\n",
    "import cython\n",
    "from libc.stdlib cimport rand, RAND_MAX\n",
    "\n",
    "# @cython.boundscheck(False)\n",
    "# @cython.wraparound(False)\n",
    "# @cython.cdivision(True)\n",
    "def cy_run_sim(int A, int M, int r = 100, int n_trials = 1000, float min_threshold_to_pass = 0.5):\n",
    "    # A = number of senators against of the bill, odd naming convention but from the book\n",
    "    # M = total who miss the vote -- we in effect are conditioning on this...    \n",
    "    cdef int total_who_show = r - M\n",
    "    cdef float total_who_show_as_float = r - M\n",
    "    cdef int total_in_favor = r - A    \n",
    "    cdef np.ndarray[np.int_t, ndim= 1, negative_indices= False, mode = 'c'] sen_array = np.zeros(r, dtype= np.int64)\n",
    "    # not totally sure how to do this as 32 bit ints\n",
    "    cdef int my_idx = 0\n",
    "    cdef int i        \n",
    "    \n",
    "    cdef int upperval = 1\n",
    "    cdef int lowerval = 1\n",
    "    cdef int successes = 0\n",
    "    cdef float running_count = 0\n",
    "    cdef float effective_threshold = total_who_show_as_float * min_threshold_to_pass\n",
    "\n",
    "    for i in range(total_in_favor):\n",
    "        sen_array[i] = 1\n",
    "\n",
    "    for _ in range(n_trials):      \n",
    "        running_count = 0\n",
    "        for i in range(total_who_show):         \n",
    "            my_idx = int((r - i) * (float(rand())/RAND_MAX))             \n",
    "            running_count += sen_array[my_idx]\n",
    "            if sen_array[r - i - 1] - sen_array[my_idx] == 0:\n",
    "                continue            \n",
    "            sen_array[r - i - 1], sen_array[my_idx] = sen_array[my_idx], sen_array[r - i - 1]\n",
    "            # the swap\n",
    "        \n",
    "        if running_count > effective_threshold:       \n",
    "            successes += 1\n",
    "    \n",
    "    return float(successes) / n_trials\n"
   ]
  },
  {
   "cell_type": "code",
   "execution_count": 5,
   "metadata": {
    "collapsed": false
   },
   "outputs": [
    {
     "data": {
      "text/plain": [
       "0.838634"
      ]
     },
     "execution_count": 5,
     "metadata": {},
     "output_type": "execute_result"
    }
   ],
   "source": [
    "answer = cy_run_sim(A = Big_A, M = Big_M, n_trials = N_trials)\n",
    "answer"
   ]
  },
  {
   "cell_type": "markdown",
   "metadata": {},
   "source": [
    "\n",
    "Timed comparisons of the numba vs cython simulation, are below\n"
   ]
  },
  {
   "cell_type": "code",
   "execution_count": 6,
   "metadata": {
    "collapsed": true
   },
   "outputs": [],
   "source": [
    "Big_M = 10"
   ]
  },
  {
   "cell_type": "code",
   "execution_count": 7,
   "metadata": {
    "collapsed": false
   },
   "outputs": [
    {
     "name": "stdout",
     "output_type": "stream",
     "text": [
      "1 loop, best of 3: 2.29 s per loop\n"
     ]
    }
   ],
   "source": [
    "%timeit run_sim(A = Big_A, M = Big_M, n_trials = N_trials)\n",
    "# numba sim"
   ]
  },
  {
   "cell_type": "code",
   "execution_count": 8,
   "metadata": {
    "collapsed": false
   },
   "outputs": [
    {
     "name": "stdout",
     "output_type": "stream",
     "text": [
      "1 loop, best of 3: 2.34 s per loop\n"
     ]
    }
   ],
   "source": [
    "%timeit run_sim(A = Big_A, M = Big_M, n_trials = N_trials)\n",
    "# numba sim"
   ]
  },
  {
   "cell_type": "code",
   "execution_count": 9,
   "metadata": {
    "collapsed": true
   },
   "outputs": [],
   "source": [
    "Big_M = 51"
   ]
  },
  {
   "cell_type": "code",
   "execution_count": 10,
   "metadata": {
    "collapsed": false
   },
   "outputs": [
    {
     "name": "stdout",
     "output_type": "stream",
     "text": [
      "1 loop, best of 3: 1.66 s per loop\n"
     ]
    }
   ],
   "source": [
    "%timeit cy_run_sim(A = Big_A, M = Big_M, n_trials = N_trials)\n",
    "# cython sim"
   ]
  },
  {
   "cell_type": "code",
   "execution_count": 11,
   "metadata": {
    "collapsed": false
   },
   "outputs": [
    {
     "name": "stdout",
     "output_type": "stream",
     "text": [
      "1 loop, best of 3: 1.66 s per loop\n"
     ]
    }
   ],
   "source": [
    "%timeit cy_run_sim(A = Big_A, M = Big_M, n_trials = N_trials)\n",
    "# cython sim"
   ]
  },
  {
   "cell_type": "code",
   "execution_count": 12,
   "metadata": {
    "collapsed": true
   },
   "outputs": [],
   "source": [
    "Big_M = 78"
   ]
  },
  {
   "cell_type": "code",
   "execution_count": 13,
   "metadata": {
    "collapsed": false
   },
   "outputs": [
    {
     "name": "stdout",
     "output_type": "stream",
     "text": [
      "1 loop, best of 3: 878 ms per loop\n"
     ]
    }
   ],
   "source": [
    "%timeit run_sim(A = Big_A, M = Big_M, n_trials = N_trials)\n",
    "# numba sim"
   ]
  },
  {
   "cell_type": "code",
   "execution_count": 14,
   "metadata": {
    "collapsed": false
   },
   "outputs": [
    {
     "name": "stdout",
     "output_type": "stream",
     "text": [
      "1 loop, best of 3: 753 ms per loop\n"
     ]
    }
   ],
   "source": [
    "%timeit cy_run_sim(A = Big_A, M = Big_M, n_trials = N_trials)\n",
    "# cython sim"
   ]
  },
  {
   "cell_type": "code",
   "execution_count": null,
   "metadata": {
    "collapsed": true
   },
   "outputs": [],
   "source": []
  }
 ],
 "metadata": {
  "kernelspec": {
   "display_name": "Python [py35]",
   "language": "python",
   "name": "Python [py35]"
  },
  "language_info": {
   "codemirror_mode": {
    "name": "ipython",
    "version": 3
   },
   "file_extension": ".py",
   "mimetype": "text/x-python",
   "name": "python",
   "nbconvert_exporter": "python",
   "pygments_lexer": "ipython3",
   "version": "3.5.2"
  }
 },
 "nbformat": 4,
 "nbformat_minor": 0
}
